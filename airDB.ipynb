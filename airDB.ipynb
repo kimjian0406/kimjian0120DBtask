{
  "nbformat": 4,
  "nbformat_minor": 0,
  "metadata": {
    "colab": {
      "provenance": [],
      "authorship_tag": "ABX9TyPB2B+SNS619ttqNzjQvth4"
    },
    "kernelspec": {
      "name": "python3",
      "display_name": "Python 3"
    },
    "language_info": {
      "name": "python"
    }
  },
  "cells": [
    {
      "cell_type": "code",
      "execution_count": null,
      "metadata": {
        "id": "8QkKrK3Bi29G"
      },
      "outputs": [],
      "source": [
        "CREATE TABLE Products (\n",
        "    productID INT AUTO_INCREMENT PRIMARY KEY,\n",
        "    productName VARCHAR(255) NOT NULL,\n",
        "    price DECIMAL(10, 2) NOT NULL,\n",
        "    stockQuantity INT NOT NULL,\n",
        "    createDate TIMESTAMP\n",
        ");\n",
        "CREATE TABLE Customers (\n",
        "    customerID INT AUTO_INCREMENT PRIMARY KEY,\n",
        "    customerName VARCHAR(255) NOT NULL,\n",
        "    email VARCHAR(255) UNIQUE NOT NULL,\n",
        "    address TEXT NOT NULL,\n",
        "    createDate TIMESTAMP\n",
        ");\n",
        "CREATE TABLE Orders (\n",
        "    orderID INT AUTO_INCREMENT PRIMARY KEY,\n",
        "    customerID INT,\n",
        "    orderDate TIMESTAMP,\n",
        "    totalAmount DECIMAL(10, 2),\n",
        "    FOREIGN KEY (customerID) REFERENCES Customers(customerID)\n",
        ");\n",
        "CREATE TABLE IF NOT EXISTS Orders (\n",
        "    ...\n",
        ");\n"
      ]
    }
  ]
}